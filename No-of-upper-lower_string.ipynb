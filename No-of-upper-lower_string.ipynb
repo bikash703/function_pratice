{
 "cells": [
  {
   "cell_type": "code",
   "execution_count": 1,
   "id": "94121dd1",
   "metadata": {},
   "outputs": [],
   "source": [
    "def up_low(s):\n",
    "    count=0\n",
    "    count1=0\n",
    "    for i in s:\n",
    "        if i.isupper():\n",
    "            count +=1\n",
    "        elif i.islower():\n",
    "            count1 +=1\n",
    "    print('No.of Upper case characters : ',count)\n",
    "    print('No.of Lower case characters : ',count1)\n"
   ]
  },
  {
   "cell_type": "code",
   "execution_count": 2,
   "id": "79210155",
   "metadata": {},
   "outputs": [
    {
     "name": "stdout",
     "output_type": "stream",
     "text": [
      "No.of Upper case characters :  4\n",
      "No.of Lower case characters :  33\n"
     ]
    }
   ],
   "source": [
    "s = 'Hello Mr. Rogers, how are you this fine Tuesday?'\n",
    "up_low(s)"
   ]
  },
  {
   "cell_type": "code",
   "execution_count": null,
   "id": "7bfebc7e",
   "metadata": {},
   "outputs": [],
   "source": []
  }
 ],
 "metadata": {
  "kernelspec": {
   "display_name": "Python 3 (ipykernel)",
   "language": "python",
   "name": "python3"
  },
  "language_info": {
   "codemirror_mode": {
    "name": "ipython",
    "version": 3
   },
   "file_extension": ".py",
   "mimetype": "text/x-python",
   "name": "python",
   "nbconvert_exporter": "python",
   "pygments_lexer": "ipython3",
   "version": "3.9.7"
  }
 },
 "nbformat": 4,
 "nbformat_minor": 5
}
