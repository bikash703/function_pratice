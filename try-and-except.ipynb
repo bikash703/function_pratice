{
 "cells": [
  {
   "cell_type": "code",
   "execution_count": 4,
   "id": "316c8f99",
   "metadata": {},
   "outputs": [
    {
     "name": "stdout",
     "output_type": "stream",
     "text": [
      "Enter Your Price7978677146\n",
      "price= 7978677146\n"
     ]
    }
   ],
   "source": [
    "price=input('Enter Your Price')\n",
    "\n",
    "try:\n",
    "    price=int()\n",
    "    print('price=',price)\n",
    "except ValueError:\n",
    "    print('Not a Number')"
   ]
  },
  {
   "cell_type": "code",
   "execution_count": 5,
   "id": "96643bb5",
   "metadata": {},
   "outputs": [],
   "source": [
    "#New program"
   ]
  },
  {
   "cell_type": "code",
   "execution_count": null,
   "id": "fd88b4eb",
   "metadata": {},
   "outputs": [],
   "source": [
    "price=int(input('Enter Your Price'))\n",
    "\n",
    "try:\n",
    "    print('price=',price)\n",
    "except ValueError as err:\n",
    "    print(err)"
   ]
  }
 ],
 "metadata": {
  "kernelspec": {
   "display_name": "Python 3 (ipykernel)",
   "language": "python",
   "name": "python3"
  },
  "language_info": {
   "codemirror_mode": {
    "name": "ipython",
    "version": 3
   },
   "file_extension": ".py",
   "mimetype": "text/x-python",
   "name": "python",
   "nbconvert_exporter": "python",
   "pygments_lexer": "ipython3",
   "version": "3.9.7"
  }
 },
 "nbformat": 4,
 "nbformat_minor": 5
}
