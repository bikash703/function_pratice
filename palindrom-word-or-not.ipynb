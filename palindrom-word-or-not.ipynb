{
 "cells": [
  {
   "cell_type": "code",
   "execution_count": 5,
   "id": "3b0a88d1",
   "metadata": {},
   "outputs": [],
   "source": [
    "def palindrome(s):\n",
    "    p=''\n",
    "    for i in s[::-1]:\n",
    "        p=str(p)+i\n",
    "    print(p)\n",
    "\n",
    "    if p==s:\n",
    "        print('Entered word is palindrom')\n",
    "    else:\n",
    "        print('not palindrom')\n"
   ]
  },
  {
   "cell_type": "code",
   "execution_count": 6,
   "id": "19e180d6",
   "metadata": {},
   "outputs": [
    {
     "name": "stdout",
     "output_type": "stream",
     "text": [
      "hlleh\n",
      "not palindrom\n"
     ]
    }
   ],
   "source": [
    "palindrome('hellh')"
   ]
  },
  {
   "cell_type": "code",
   "execution_count": null,
   "id": "9c08a6da",
   "metadata": {},
   "outputs": [],
   "source": []
  }
 ],
 "metadata": {
  "kernelspec": {
   "display_name": "Python 3 (ipykernel)",
   "language": "python",
   "name": "python3"
  },
  "language_info": {
   "codemirror_mode": {
    "name": "ipython",
    "version": 3
   },
   "file_extension": ".py",
   "mimetype": "text/x-python",
   "name": "python",
   "nbconvert_exporter": "python",
   "pygments_lexer": "ipython3",
   "version": "3.9.7"
  }
 },
 "nbformat": 4,
 "nbformat_minor": 5
}
